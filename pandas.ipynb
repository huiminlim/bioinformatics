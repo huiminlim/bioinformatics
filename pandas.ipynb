{
 "cells": [
  {
   "cell_type": "code",
   "execution_count": 6,
   "metadata": {},
   "outputs": [],
   "source": [
    "import pandas as pd"
   ]
  },
  {
   "cell_type": "code",
   "execution_count": 7,
   "metadata": {},
   "outputs": [
    {
     "name": "stderr",
     "output_type": "stream",
     "text": [
      "/home/hm/miniconda3/envs/bioinformatics/lib/python3.9/site-packages/IPython/core/interactiveshell.py:3444: DtypeWarning: Columns (7,12,15,23) have mixed types.Specify dtype option on import or set low_memory=False.\n",
      "  exec(code_obj, self.user_global_ns, self.user_ns)\n"
     ]
    }
   ],
   "source": [
    "# Loading the data\n",
    "vdata = pd.read_csv(\"data/2021VAERSDATA.csv.gz\", encoding=\"iso-8859-1\")"
   ]
  },
  {
   "cell_type": "code",
   "execution_count": 8,
   "metadata": {},
   "outputs": [
    {
     "name": "stdout",
     "output_type": "stream",
     "text": [
      "(743482, 35)\n"
     ]
    }
   ],
   "source": [
    "# Gathering basic statistics of the dataset\n",
    "print(vdata.shape)\n",
    "# print(vdata.dtypes)\n",
    "# print(vdata.columns)"
   ]
  },
  {
   "cell_type": "code",
   "execution_count": 9,
   "metadata": {},
   "outputs": [
    {
     "name": "stdout",
     "output_type": "stream",
     "text": [
      "VAERS_ID                                                   916600\n",
      "RECVDATE                                               01/01/2021\n",
      "STATE                                                          TX\n",
      "AGE_YRS                                                      33.0\n",
      "CAGE_YR                                                      33.0\n",
      "CAGE_MO                                                       NaN\n",
      "SEX                                                             F\n",
      "RPT_DATE                                                      NaN\n",
      "SYMPTOM_TEXT    Right side of epiglottis swelled up and hinder...\n",
      "DIED                                                          NaN\n",
      "DATEDIED                                                      NaN\n",
      "L_THREAT                                                      NaN\n",
      "ER_VISIT                                                      NaN\n",
      "HOSPITAL                                                      NaN\n",
      "HOSPDAYS                                                      NaN\n",
      "X_STAY                                                        NaN\n",
      "DISABLE                                                       NaN\n",
      "RECOVD                                                          Y\n",
      "VAX_DATE                                               12/28/2020\n",
      "ONSET_DATE                                             12/30/2020\n",
      "NUMDAYS                                                       2.0\n",
      "LAB_DATA                                                     None\n",
      "V_ADMINBY                                                     PVT\n",
      "V_FUNDBY                                                      NaN\n",
      "OTHER_MEDS                                                   None\n",
      "CUR_ILL                                                      None\n",
      "HISTORY                                                      None\n",
      "PRIOR_VAX                                                     NaN\n",
      "SPLTTYPE                                                      NaN\n",
      "FORM_VERS                                                       2\n",
      "TODAYS_DATE                                            01/01/2021\n",
      "BIRTH_DEFECT                                                  NaN\n",
      "OFC_VISIT                                                       Y\n",
      "ER_ED_VISIT                                                   NaN\n",
      "ALLERGIES                                       Pcn and bee venom\n",
      "Name: 0, dtype: object\n"
     ]
    }
   ],
   "source": [
    "# Get the integer position-based (from 0 to length-1 of axis)\n",
    "print(vdata.iloc[0])"
   ]
  },
  {
   "cell_type": "code",
   "execution_count": 10,
   "metadata": {},
   "outputs": [],
   "source": [
    "# Set the index to \"VAERS_ID\"\n",
    "# Allows the id to be used to retrieve a row\n",
    "vdata = vdata.set_index(\"VAERS_ID\")"
   ]
  },
  {
   "cell_type": "code",
   "execution_count": 11,
   "metadata": {},
   "outputs": [
    {
     "data": {
      "text/html": [
       "<div>\n",
       "<style scoped>\n",
       "    .dataframe tbody tr th:only-of-type {\n",
       "        vertical-align: middle;\n",
       "    }\n",
       "\n",
       "    .dataframe tbody tr th {\n",
       "        vertical-align: top;\n",
       "    }\n",
       "\n",
       "    .dataframe thead th {\n",
       "        text-align: right;\n",
       "    }\n",
       "</style>\n",
       "<table border=\"1\" class=\"dataframe\">\n",
       "  <thead>\n",
       "    <tr style=\"text-align: right;\">\n",
       "      <th></th>\n",
       "      <th>AGE_YRS</th>\n",
       "      <th>CAGE_YR</th>\n",
       "    </tr>\n",
       "    <tr>\n",
       "      <th>VAERS_ID</th>\n",
       "      <th></th>\n",
       "      <th></th>\n",
       "    </tr>\n",
       "  </thead>\n",
       "  <tbody>\n",
       "    <tr>\n",
       "      <th>916600</th>\n",
       "      <td>33.0</td>\n",
       "      <td>33.0</td>\n",
       "    </tr>\n",
       "    <tr>\n",
       "      <th>916601</th>\n",
       "      <td>73.0</td>\n",
       "      <td>73.0</td>\n",
       "    </tr>\n",
       "    <tr>\n",
       "      <th>916602</th>\n",
       "      <td>23.0</td>\n",
       "      <td>23.0</td>\n",
       "    </tr>\n",
       "    <tr>\n",
       "      <th>916603</th>\n",
       "      <td>58.0</td>\n",
       "      <td>58.0</td>\n",
       "    </tr>\n",
       "    <tr>\n",
       "      <th>916604</th>\n",
       "      <td>47.0</td>\n",
       "      <td>47.0</td>\n",
       "    </tr>\n",
       "  </tbody>\n",
       "</table>\n",
       "</div>"
      ],
      "text/plain": [
       "          AGE_YRS  CAGE_YR\n",
       "VAERS_ID                  \n",
       "916600       33.0     33.0\n",
       "916601       73.0     73.0\n",
       "916602       23.0     23.0\n",
       "916603       58.0     58.0\n",
       "916604       47.0     47.0"
      ]
     },
     "execution_count": 11,
     "metadata": {},
     "output_type": "execute_result"
    }
   ],
   "source": [
    "# Retrieve first 5 rows, but only 2nd and 3rd columns\n",
    "vdata.iloc[:5, 2:4]"
   ]
  },
  {
   "cell_type": "code",
   "execution_count": 15,
   "metadata": {},
   "outputs": [
    {
     "name": "stdout",
     "output_type": "stream",
     "text": [
      "Max age in years: 119.0\n"
     ]
    }
   ],
   "source": [
    "# Computing basic statistics\n",
    "vdata[\"AGE_YRS\"].max()\n",
    "max = vdata.AGE_YRS.max()\n",
    "print(f\"Max age in years: {max}\")"
   ]
  },
  {
   "cell_type": "code",
   "execution_count": 21,
   "metadata": {},
   "outputs": [
    {
     "data": {
      "text/plain": [
       "<AxesSubplot:xlabel='Frequency'>"
      ]
     },
     "execution_count": 21,
     "metadata": {},
     "output_type": "execute_result"
    },
    {
     "data": {
      "image/png": "[encoded data removed]",
      "text/plain": [
       "<Figure size 432x288 with 2 Axes>"
      ]
     },
     "metadata": {
      "needs_background": "light"
     },
     "output_type": "display_data"
    }
   ],
   "source": [
    "# Plot graphs from dataframes using underlying Matplotlib\n",
    "import matplotlib.pyplot as plt\n",
    "fig, ax = plt.subplots(1, 2, sharey=True)\n",
    "fig.suptitle(\"Age of adverse events\")\n",
    "vdata.AGE_YRS.sort_values().plot(use_index=False, \n",
    "                                 ax=ax[0], \n",
    "                                 xlabel=\"Observations\", \n",
    "                                 ylabel=\"Age\")\n",
    "vdata.AGE_YRS.plot.hist(bins=20, \n",
    "                        orientation=\"horizontal\")"
   ]
  }
 ],
 "metadata": {
  "kernelspec": {
   "display_name": "bioinformatics",
   "language": "python",
   "name": "python3"
  },
  "language_info": {
   "codemirror_mode": {
    "name": "ipython",
    "version": 3
   },
   "file_extension": ".py",
   "mimetype": "text/x-python",
   "name": "python",
   "nbconvert_exporter": "python",
   "pygments_lexer": "ipython3",
   "version": "3.9.7"
  },
  "orig_nbformat": 4
 },
 "nbformat": 4,
 "nbformat_minor": 2
}
